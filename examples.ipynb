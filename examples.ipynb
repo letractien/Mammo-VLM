{
 "cells": [
  {
   "cell_type": "code",
   "execution_count": null,
   "metadata": {},
   "outputs": [],
   "source": [
    "import dataset\n",
    "image_annotation_tuples = dataset.load_image_annotation_tuples()\n",
    "image_annotation_tuples[0]"
   ]
  },
  {
   "cell_type": "code",
   "execution_count": null,
   "metadata": {},
   "outputs": [],
   "source": [
    "import os\n",
    "import shutil\n",
    "\n",
    "examples = [\n",
    "    \"2feab51140b38f9ec90e17b7006501b2\",\n",
    "    \"19aa7e28743b204e978558c4fed12fd2\",\n",
    "\n",
    "    \"36d251a46482ffaff035e48fc8a1f8e4\",\n",
    "    \"202d1c29785f6327985ffda7100e2265\",\n",
    "    \"370f48157f08675de0b49988b7c39622\",\n",
    "    \"396bea28fd4be11598bc53bf5f2b7460\",\n",
    "\n",
    "    \"35721bd45c2cc3619bc9472b81ec871b\",\n",
    "    \"6450616fa854fa9d7a26d111e880792e\",\n",
    "    \"29896919b15b2dd978a36b2f68a5ad93\",\n",
    "    \"a37e508fc994c1c7a846ec23edfb400f\",\n",
    "\n",
    "    \"d88d4b9103281220b9ac1a122364973b\",\n",
    "    \"df4b1cfb384dab76abc34cc4db0f5b30\",\n",
    "    \"f1f79501410a98782c0a03b48e66df83\",\n",
    "\n",
    "    \"1b26a908ba95c2e63e58f1a44d5a3490\",\n",
    "\n",
    "    \"03b3656c726cbe0d79c86a25d4296559\",\n",
    "    \"fc35547785ce94420408f99bbfad57fb\",\n",
    "\n",
    "    \"d3aced0c7e8fe9c1bd498eeb72cb6048\",\n",
    "    \"232d42e92fc9445b6e882d8391c3c782\",\n",
    "    \"2682bff9b89f87ca6a9242cbcf4256be\",\n",
    "\n",
    "    \"4285bb1fd50ed9f19bd507e66738189c\",\n",
    "    \"3067b317b88697b45e336a9e1a481021\",\n",
    "    \"608702adb4fc8f88e22b458dc95a63aa\",\n",
    "\n",
    "]\n",
    "\n",
    "save_dir = \"./dataset/vindr_20samples\"\n",
    "os.makedirs(save_dir, exist_ok=True)\n",
    "count = 0 \n",
    "\n",
    "for idx, (img_path, annotation) in enumerate(image_annotation_tuples):\n",
    "    basename_no_ext = os.path.splitext(os.path.basename(img_path))[0]\n",
    "    if basename_no_ext in examples:\n",
    "        folder = annotation['study_id']\n",
    "        target_folder = os.path.join(save_dir, folder)\n",
    "        os.makedirs(target_folder, exist_ok=True)\n",
    "        \n",
    "        target_path = os.path.join(target_folder, os.path.basename(img_path))\n",
    "        shutil.copy2(img_path, target_path)\n",
    "        count += 1\n",
    "        print(f\"{count} Copied: {img_path} -> {target_path}\")\n"
   ]
  },
  {
   "cell_type": "code",
   "execution_count": null,
   "metadata": {},
   "outputs": [],
   "source": [
    "import dataset\n",
    "image_annotation_tuples = dataset.load_image_annotation_tuples(\n",
    "    label_path=\"vindr/finding_annotations.csv\", \n",
    "    images_path=\"vindr_20samples\"\n",
    ")"
   ]
  },
  {
   "cell_type": "code",
   "execution_count": null,
   "metadata": {},
   "outputs": [],
   "source": [
    "for idx, (img_path, annotation) in enumerate(image_annotation_tuples):\n",
    "    print(img_path)"
   ]
  },
  {
   "cell_type": "code",
   "execution_count": null,
   "metadata": {},
   "outputs": [],
   "source": [
    "unique_tuples = list({img_path: (img_path, ann) for img_path, ann in image_annotation_tuples}.values())\n",
    "unique_tuples[0]"
   ]
  }
 ],
 "metadata": {
  "kernelspec": {
   "display_name": ".venv-mammography",
   "language": "python",
   "name": "python3"
  },
  "language_info": {
   "codemirror_mode": {
    "name": "ipython",
    "version": 3
   },
   "file_extension": ".py",
   "mimetype": "text/x-python",
   "name": "python",
   "nbconvert_exporter": "python",
   "pygments_lexer": "ipython3",
   "version": "3.11.9"
  }
 },
 "nbformat": 4,
 "nbformat_minor": 2
}
