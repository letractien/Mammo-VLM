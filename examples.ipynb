{
 "cells": [
  {
   "cell_type": "code",
   "execution_count": null,
   "metadata": {},
   "outputs": [],
   "source": [
    "import dataset\n",
    "image_annotation_tuples = dataset.load_image_annotation_tuples()\n",
    "image_annotation_tuples[0]"
   ]
  },
  {
   "cell_type": "code",
   "execution_count": null,
   "metadata": {},
   "outputs": [],
   "source": [
    "import os\n",
    "import shutil\n",
    "\n",
    "examples = [\n",
    "    \"2feab51140b38f9ec90e17b7006501b2\",\n",
    "    \"6b1dd04208019290c84add37e109fa79\",\n",
    "    \"7a53b6689ed19c4006227e46b158906f\",\n",
    "    \"7adeb584564fc161d897a3fc719acd17\",\n",
    "    \"19aa7e28743b204e978558c4fed12fd2\",\n",
    "\n",
    "    \"032ab9e0ecd5fd673517ffa3eb805d15\",\n",
    "    \"36d251a46482ffaff035e48fc8a1f8e4\"\n",
    "]\n",
    "save_dir = \"out/samples\"\n",
    "os.makedirs(save_dir, exist_ok=True)\n",
    "\n",
    "for img_path, annotation in image_annotation_tuples:\n",
    "    basename_no_ext = os.path.splitext(os.path.basename(img_path))[0]\n",
    "    if basename_no_ext in examples:\n",
    "        folder = annotation['study_id']\n",
    "        target_folder = os.path.join(save_dir, folder)\n",
    "        os.makedirs(target_folder, exist_ok=True)\n",
    "        \n",
    "        target_path = os.path.join(target_folder, os.path.basename(img_path))\n",
    "        shutil.copy2(img_path, target_path)\n",
    "        print(f\"Copied: {img_path} -> {target_path}\")\n"
   ]
  }
 ],
 "metadata": {
  "kernelspec": {
   "display_name": ".venv-mammography",
   "language": "python",
   "name": "python3"
  },
  "language_info": {
   "codemirror_mode": {
    "name": "ipython",
    "version": 3
   },
   "file_extension": ".py",
   "mimetype": "text/x-python",
   "name": "python",
   "nbconvert_exporter": "python",
   "pygments_lexer": "ipython3",
   "version": "3.11.9"
  }
 },
 "nbformat": 4,
 "nbformat_minor": 2
}
